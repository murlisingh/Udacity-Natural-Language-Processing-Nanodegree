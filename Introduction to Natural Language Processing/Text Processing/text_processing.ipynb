{
 "cells": [
  {
   "cell_type": "markdown",
   "metadata": {},
   "source": [
    "# Text Processing\n",
    "\n",
    "## Capturing Text Data\n",
    "\n",
    "### Plain Text"
   ]
  },
  {
   "cell_type": "code",
   "execution_count": 1,
   "metadata": {},
   "outputs": [
    {
     "name": "stdout",
     "output_type": "stream",
     "text": [
      "Hieroglyphic writing dates from c. 3000 BC, and is composed of hundreds of symbols. A hieroglyph can represent a word, a sound, or a silent determinative; and the same symbol can serve different purposes in different contexts. Hieroglyphs were a formal script, used on stone monuments and in tombs, that could be as detailed as individual works of art.\n",
      "\n"
     ]
    }
   ],
   "source": [
    "import os\n",
    "\n",
    "# Read in a plain text file\n",
    "with open(os.path.join(\"data\", \"hieroglyph.txt\"), \"r\") as f:\n",
    "    text = f.read()\n",
    "    print(text)"
   ]
  },
  {
   "cell_type": "markdown",
   "metadata": {},
   "source": [
    "### Tabular Data"
   ]
  },
  {
   "cell_type": "code",
   "execution_count": 2,
   "metadata": {
    "scrolled": true
   },
   "outputs": [
    {
     "data": {
      "text/html": [
       "<div>\n",
       "<style scoped>\n",
       "    .dataframe tbody tr th:only-of-type {\n",
       "        vertical-align: middle;\n",
       "    }\n",
       "\n",
       "    .dataframe tbody tr th {\n",
       "        vertical-align: top;\n",
       "    }\n",
       "\n",
       "    .dataframe thead th {\n",
       "        text-align: right;\n",
       "    }\n",
       "</style>\n",
       "<table border=\"1\" class=\"dataframe\">\n",
       "  <thead>\n",
       "    <tr style=\"text-align: right;\">\n",
       "      <th></th>\n",
       "      <th>publisher</th>\n",
       "      <th>title</th>\n",
       "    </tr>\n",
       "  </thead>\n",
       "  <tbody>\n",
       "    <tr>\n",
       "      <th>0</th>\n",
       "      <td>Livemint</td>\n",
       "      <td>fed's charles plosser sees high bar for change...</td>\n",
       "    </tr>\n",
       "    <tr>\n",
       "      <th>1</th>\n",
       "      <td>IFA Magazine</td>\n",
       "      <td>us open: stocks fall after fed official hints ...</td>\n",
       "    </tr>\n",
       "    <tr>\n",
       "      <th>2</th>\n",
       "      <td>IFA Magazine</td>\n",
       "      <td>fed risks falling 'behind the curve', charles ...</td>\n",
       "    </tr>\n",
       "    <tr>\n",
       "      <th>3</th>\n",
       "      <td>Moneynews</td>\n",
       "      <td>fed's plosser: nasty weather has curbed job gr...</td>\n",
       "    </tr>\n",
       "    <tr>\n",
       "      <th>4</th>\n",
       "      <td>NASDAQ</td>\n",
       "      <td>plosser: fed may have to accelerate tapering pace</td>\n",
       "    </tr>\n",
       "  </tbody>\n",
       "</table>\n",
       "</div>"
      ],
      "text/plain": [
       "      publisher                                              title\n",
       "0      Livemint  fed's charles plosser sees high bar for change...\n",
       "1  IFA Magazine  us open: stocks fall after fed official hints ...\n",
       "2  IFA Magazine  fed risks falling 'behind the curve', charles ...\n",
       "3     Moneynews  fed's plosser: nasty weather has curbed job gr...\n",
       "4        NASDAQ  plosser: fed may have to accelerate tapering pace"
      ]
     },
     "execution_count": 2,
     "metadata": {},
     "output_type": "execute_result"
    }
   ],
   "source": [
    "import pandas as pd\n",
    "\n",
    "# Extract text column from a dataframe\n",
    "df = pd.read_csv(os.path.join(\"data\", \"news.csv\"))\n",
    "df.head()[['publisher', 'title']]\n",
    "\n",
    "# Convert text column to lowercase\n",
    "df['title'] = df['title'].str.lower()\n",
    "df.head()[['publisher', 'title']]"
   ]
  },
  {
   "cell_type": "markdown",
   "metadata": {},
   "source": [
    "### Online Resource"
   ]
  },
  {
   "cell_type": "code",
   "execution_count": 3,
   "metadata": {
    "scrolled": true
   },
   "outputs": [
    {
     "name": "stdout",
     "output_type": "stream",
     "text": [
      "{\n",
      "    \"success\": {\n",
      "        \"total\": 1\n",
      "    },\n",
      "    \"contents\": {\n",
      "        \"quotes\": [\n",
      "            {\n",
      "                \"quote\": \"What you do speaks so loudly that I cannot hear what you say.\",\n",
      "                \"length\": \"61\",\n",
      "                \"author\": \"Ralph Waldo Emerson\",\n",
      "                \"tags\": {\n",
      "                    \"0\": \"action\",\n",
      "                    \"1\": \"inspire\",\n",
      "                    \"2\": \"leadership\",\n",
      "                    \"3\": \"management\",\n",
      "                    \"5\": \"tod\"\n",
      "                },\n",
      "                \"category\": \"inspire\",\n",
      "                \"language\": \"en\",\n",
      "                \"date\": \"2020-07-09\",\n",
      "                \"permalink\": \"https://theysaidso.com/quote/ralph-waldo-emerson-what-you-do-speaks-so-loudly-that-i-cannot-hear-what-you-say\",\n",
      "                \"id\": \"eZ0NtMPtGp8c5eQJOBfJmweF\",\n",
      "                \"background\": \"https://theysaidso.com/img/qod/qod-inspire.jpg\",\n",
      "                \"title\": \"Inspiring Quote of the day\"\n",
      "            }\n",
      "        ]\n",
      "    },\n",
      "    \"baseurl\": \"https://theysaidso.com\",\n",
      "    \"copyright\": {\n",
      "        \"year\": 2022,\n",
      "        \"url\": \"https://theysaidso.com\"\n",
      "    }\n",
      "}\n",
      "What you do speaks so loudly that I cannot hear what you say. \n",
      "-- Ralph Waldo Emerson\n"
     ]
    }
   ],
   "source": [
    "import requests\n",
    "import json\n",
    "\n",
    "# Fetch data from a REST API\n",
    "r = requests.get(\n",
    "    \"https://quotes.rest/qod.json\")\n",
    "res = r.json()\n",
    "print(json.dumps(res, indent=4))\n",
    "\n",
    "# Extract relevant object and field\n",
    "q = res[\"contents\"][\"quotes\"][0]\n",
    "print(q[\"quote\"], \"\\n--\", q[\"author\"])"
   ]
  },
  {
   "cell_type": "markdown",
   "metadata": {},
   "source": [
    "## Cleaning"
   ]
  },
  {
   "cell_type": "code",
   "execution_count": 7,
   "metadata": {
    "scrolled": true
   },
   "outputs": [
    {
     "name": "stdout",
     "output_type": "stream",
     "text": [
      "<html lang=\"en\" op=\"news\"><head><meta name=\"referrer\" content=\"origin\"><meta name=\"viewport\" content=\"width=device-width, initial-scale=1.0\"><link rel=\"stylesheet\" type=\"text/css\" href=\"news.css?xxZKMVXn3yWHa2NZs4FV\">\n",
      "        <link rel=\"shortcut icon\" href=\"favicon.ico\">\n",
      "          <link rel=\"alternate\" type=\"application/rss+xml\" title=\"RSS\" href=\"rss\">\n",
      "        <title>Hacker News</title></head><body><center><table id=\"hnmain\" border=\"0\" cellpadding=\"0\" cellspacing=\"0\" width=\"85%\" bgcolor=\"#f6f6ef\">\n",
      "        <tr><td bgcolor=\"#ff6600\"><table border=\"0\" cellpadding=\"0\" cellspacing=\"0\" width=\"100%\" style=\"padding:2px\"><tr><td style=\"width:18px;padding-right:4px\"><a href=\"https://news.ycombinator.com\"><img src=\"y18.gif\" width=\"18\" height=\"18\" style=\"border:1px white solid;\"></a></td>\n",
      "                  <td style=\"line-height:12pt; height:10px;\"><span class=\"pagetop\"><b class=\"hnname\"><a href=\"news\">Hacker News</a></b>\n",
      "              <a href=\"newest\">new</a> | <a href=\"front\">past</a> | <a href=\"newcomments\">comments</a> | <a href=\"ask\">ask</a> | <a href=\"show\">show</a> | <a href=\"jobs\">jobs</a> | <a href=\"submit\">submit</a>            </span></td><td style=\"text-align:right;padding-right:4px;\"><span class=\"pagetop\">\n",
      "                              <a href=\"login?goto=news\">login</a>\n",
      "                          </span></td>\n",
      "              </tr></table></td></tr>\n",
      "<tr id=\"pagespace\" title=\"\" style=\"height:10px\"></tr><tr><td><table border=\"0\" cellpadding=\"0\" cellspacing=\"0\" class=\"itemlist\">\n",
      "              <tr class='athing' id='23776514'>\n",
      "      <td align=\"right\" valign=\"top\" class=\"title\"><span class=\"rank\">1.</span></td>      <td valign=\"top\" class=\"votelinks\"><center><a id='up_23776514' href='vote?id=23776514&amp;how=up&amp;goto=news'><div class='votearrow' title='upvote'></div></a></center></td><td class=\"title\"><a href=\"https://nicolodavis.com/blog/typescript-to-rust/\" class=\"storylink\">Moving from TypeScript to Rust / WebAssembly</a><span class=\"sitebit comhead\"> (<a href=\"from?site=nicolodavis.com\"><span class=\"sitestr\">nicolodavis.com</span></a>)</span></td></tr><tr><td colspan=\"2\"></td><td class=\"subtext\">\n",
      "        <span class=\"score\" id=\"score_23776514\">251 points</span> by <a href=\"user?id=nicolodavis\" class=\"hnuser\">nicolodavis</a> <span class=\"age\"><a href=\"item?id=23776514\">5 hours ago</a></span> <span id=\"unv_23776514\"></span> | <a href=\"hide?id=23776514&amp;goto=news\">hide</a> | <a href=\"item?id=23776514\">148&nbsp;comments</a>              </td></tr>\n",
      "      <tr class=\"spacer\" style=\"height:5px\"></tr>\n",
      "                <tr class='athing' id='23774394'>\n",
      "      <td align=\"right\" valign=\"top\" class=\"title\"><span class=\"rank\">2.</span></td>      <td valign=\"top\" class=\"votelinks\"><center><a id='up_23774394' href='vote?id=23774394&amp;how=up&amp;goto=news'><div class='votearrow' title='upvote'></div></a></center></td><td class=\"title\"><a href=\"https://smitop.com/post/reddit-whiteops/\" class=\"storylink\">Reddit's website uses DRM for fingerprinting</a><span class=\"sitebit comhead\"> (<a href=\"from?site=smitop.com\"><span class=\"sitestr\">smitop.com</span></a>)</span></td></tr><tr><td colspan=\"2\"></td><td class=\"subtext\">\n",
      "        <span class=\"score\" id=\"score_23774394\">656 points</span> by <a href=\"user?id=smitop\" class=\"hnuser\">smitop</a> <span class=\"age\"><a href=\"item?id=23774394\">10 hours ago</a></span> <span id=\"unv_23774394\"></span> | <a href=\"hide?id=23774394&amp;goto=news\">hide</a> | <a href=\"item?id=23774394\">330&nbsp;comments</a>              </td></tr>\n",
      "      <tr class=\"spacer\" style=\"height:5px\"></tr>\n",
      "                <tr class='athing' id='23775404'>\n",
      "      <td align=\"right\" valign=\"top\" class=\"title\"><span class=\"rank\">3.</span></td>      <td valign=\"top\" class=\"votelinks\"><center><a id='up_23775404' href='vote?id=23775404&amp;how=up&amp;goto=news'><div class='votearrow' title='upvote'></div></a></center></td><td class=\"title\"><a href=\"http://web.mit.edu/jemorris/humor/500-miles\" class=\"storylink\">We can't send email more than 500 miles (2002)</a><span class=\"sitebit comhead\"> (<a href=\"from?site=web.mit.edu\"><span class=\"sitestr\">web.mit.edu</span></a>)</span></td></tr><tr><td colspan=\"2\"></td><td class=\"subtext\">\n",
      "        <span class=\"score\" id=\"score_23775404\">495 points</span> by <a href=\"user?id=alanpage\" class=\"hnuser\">alanpage</a> <span class=\"age\"><a href=\"item?id=23775404\">8 hours ago</a></span> <span id=\"unv_23775404\"></span> | <a href=\"hide?id=23775404&amp;goto=news\">hide</a> | <a href=\"item?id=23775404\">72&nbsp;comments</a>              </td></tr>\n",
      "      <tr class=\"spacer\" style=\"height:5px\"></tr>\n",
      "                <tr class='athing' id='23771847'>\n",
      "      <td align=\"right\" valign=\"top\" class=\"title\"><span class=\"rank\">4.</span></td>      <td valign=\"top\" class=\"votelinks\"><center><a id='up_23771847' href='vote?id=23771847&amp;how=up&amp;goto=news'><div class='votearrow' title='upvote'></div></a></center></td><td class=\"title\"><a href=\"https://lwn.net/SubscriberLink/825005/6440c82feb745bbe/\" class=\"storylink\">Linux Mint drops Ubuntu Snap packages</a><span class=\"sitebit comhead\"> (<a href=\"from?site=lwn.net\"><span class=\"sitestr\">lwn.net</span></a>)</span></td></tr><tr><td colspan=\"2\"></td><td class=\"subtext\">\n",
      "        <span class=\"score\" id=\"score_23771847\">921 points</span> by <a href=\"user?id=jonquark\" class=\"hnuser\">jonquark</a> <span class=\"age\"><a href=\"item?id=23771847\">15 hours ago</a></span> <span id=\"unv_23771847\"></span> | <a href=\"hide?id=23771847&amp;goto=news\">hide</a> | <a href=\"item?id=23771847\">396&nbsp;comments</a>              </td></tr>\n",
      "      <tr class=\"spacer\" style=\"height:5px\"></tr>\n",
      "                <tr class='athing' id='23777460'>\n",
      "      <td align=\"right\" valign=\"top\" class=\"title\"><span class=\"rank\">5.</span></td>      <td valign=\"top\" class=\"votelinks\"><center><a id='up_23777460' href='vote?id=23777460&amp;how=up&amp;goto=news'><div class='votearrow' title='upvote'></div></a></center></td><td class=\"title\"><a href=\"https://oss.redislabs.com/redisearch/\" class=\"storylink\">RediSearch – Redis Powered Search Engine</a><span class=\"sitebit comhead\"> (<a href=\"from?site=redislabs.com\"><span class=\"sitestr\">redislabs.com</span></a>)</span></td></tr><tr><td colspan=\"2\"></td><td class=\"subtext\">\n",
      "        <span class=\"score\" id=\"score_23777460\">29 points</span> by <a href=\"user?id=gilad\" class=\"hnuser\">gilad</a> <span class=\"age\"><a href=\"item?id=23777460\">1 hour ago</a></span> <span id=\"unv_23777460\"></span> | <a href=\"hide?id=23777460&amp;goto=news\">hide</a> | <a href=\"item?id=23777460\">7&nbsp;comments</a>              </td></tr>\n",
      "      <tr class=\"spacer\" style=\"height:5px\"></tr>\n",
      "                <tr class='athing' id='23776994'>\n",
      "      <td align=\"right\" valign=\"top\" class=\"title\"><span class=\"rank\">6.</span></td>      <td valign=\"top\" class=\"votelinks\"><center><a id='up_23776994' href='vote?id=23776994&amp;how=up&amp;goto=news'><div class='votearrow' title='upvote'></div></a></center></td><td class=\"title\"><a href=\"https://developer.ibm.com/components/istio/blogs/istio-google-open-usage-commons/\" class=\"storylink\">Why IBM Doesn’t Agree with Google’s Open Usage Commons for the Istio Project</a><span class=\"sitebit comhead\"> (<a href=\"from?site=ibm.com\"><span class=\"sitestr\">ibm.com</span></a>)</span></td></tr><tr><td colspan=\"2\"></td><td class=\"subtext\">\n",
      "        <span class=\"score\" id=\"score_23776994\">65 points</span> by <a href=\"user?id=bharatsb\" class=\"hnuser\">bharatsb</a> <span class=\"age\"><a href=\"item?id=23776994\">3 hours ago</a></span> <span id=\"unv_23776994\"></span> | <a href=\"hide?id=23776994&amp;goto=news\">hide</a> | <a href=\"item?id=23776994\">14&nbsp;comments</a>              </td></tr>\n",
      "      <tr class=\"spacer\" style=\"height:5px\"></tr>\n",
      "                <tr class='athing' id='23777355'>\n",
      "      <td align=\"right\" valign=\"top\" class=\"title\"><span class=\"rank\">7.</span></td>      <td valign=\"top\" class=\"votelinks\"><center><a id='up_23777355' href='vote?id=23777355&amp;how=up&amp;goto=news'><div class='votearrow' title='upvote'></div></a></center></td><td class=\"title\"><a href=\"https://github.com/idris-lang/Idris2/pull/415\" class=\"storylink\">New JavaScript code generator has landed in Idris 2</a><span class=\"sitebit comhead\"> (<a href=\"from?site=github.com\"><span class=\"sitestr\">github.com</span></a>)</span></td></tr><tr><td colspan=\"2\"></td><td class=\"subtext\">\n",
      "        <span class=\"score\" id=\"score_23777355\">18 points</span> by <a href=\"user?id=ska80\" class=\"hnuser\">ska80</a> <span class=\"age\"><a href=\"item?id=23777355\">2 hours ago</a></span> <span id=\"unv_23777355\"></span> | <a href=\"hide?id=23777355&amp;goto=news\">hide</a> | <a href=\"item?id=23777355\">discuss</a>              </td></tr>\n",
      "      <tr class=\"spacer\" style=\"height:5px\"></tr>\n",
      "                <tr class='athing' id='23775704'>\n",
      "      <td align=\"right\" valign=\"top\" class=\"title\"><span class=\"rank\">8.</span></td>      <td valign=\"top\" class=\"votelinks\"><center><a id='up_23775704' href='vote?id=23775704&amp;how=up&amp;goto=news'><div class='votearrow' title='upvote'></div></a></center></td><td class=\"title\"><a href=\"https://blog.torproject.org/more-onions-porfavor\" class=\"storylink\">MoreOnionsPorfavor: Onionize your website and take back the internet</a><span class=\"sitebit comhead\"> (<a href=\"from?site=torproject.org\"><span class=\"sitestr\">torproject.org</span></a>)</span></td></tr><tr><td colspan=\"2\"></td><td class=\"subtext\">\n",
      "        <span class=\"score\" id=\"score_23775704\">145 points</span> by <a href=\"user?id=worldofmatthew\" class=\"hnuser\">worldofmatthew</a> <span class=\"age\"><a href=\"item?id=23775704\">7 hours ago</a></span> <span id=\"unv_23775704\"></span> | <a href=\"hide?id=23775704&amp;goto=news\">hide</a> | <a href=\"item?id=23775704\">76&nbsp;comments</a>              </td></tr>\n",
      "      <tr class=\"spacer\" style=\"height:5px\"></tr>\n",
      "                <tr class='athing' id='23773545'>\n",
      "      <td align=\"right\" valign=\"top\" class=\"title\"><span class=\"rank\">9.</span></td>      <td valign=\"top\" class=\"votelinks\"><center><a id='up_23773545' href='vote?id=23773545&amp;how=up&amp;goto=news'><div class='votearrow' title='upvote'></div></a></center></td><td class=\"title\"><a href=\"https://www.nature.com/articles/s41586-020-2487-2\" class=\"storylink\">Native American gene flow into Polynesia predating Easter Island settlement</a><span class=\"sitebit comhead\"> (<a href=\"from?site=nature.com\"><span class=\"sitestr\">nature.com</span></a>)</span></td></tr><tr><td colspan=\"2\"></td><td class=\"subtext\">\n",
      "        <span class=\"score\" id=\"score_23773545\">16 points</span> by <a href=\"user?id=Thevet\" class=\"hnuser\">Thevet</a> <span class=\"age\"><a href=\"item?id=23773545\">3 hours ago</a></span> <span id=\"unv_23773545\"></span> | <a href=\"hide?id=23773545&amp;goto=news\">hide</a> | <a href=\"item?id=23773545\">3&nbsp;comments</a>              </td></tr>\n",
      "      <tr class=\"spacer\" style=\"height:5px\"></tr>\n",
      "                <tr class='athing' id='23777050'>\n",
      "      <td align=\"right\" valign=\"top\" class=\"title\"><span class=\"rank\">10.</span></td>      <td valign=\"top\" class=\"votelinks\"><center><a id='up_23777050' href='vote?id=23777050&amp;how=up&amp;goto=news'><div class='votearrow' title='upvote'></div></a></center></td><td class=\"title\"><a href=\"https://aeon.co/essays/vienna-schoenberg-and-the-advent-of-musical-modernism\" class=\"storylink\">Vienna, City of Paradox</a><span class=\"sitebit comhead\"> (<a href=\"from?site=aeon.co\"><span class=\"sitestr\">aeon.co</span></a>)</span></td></tr><tr><td colspan=\"2\"></td><td class=\"subtext\">\n",
      "        <span class=\"score\" id=\"score_23777050\">27 points</span> by <a href=\"user?id=tintinnabula\" class=\"hnuser\">tintinnabula</a> <span class=\"age\"><a href=\"item?id=23777050\">3 hours ago</a></span> <span id=\"unv_23777050\"></span> | <a href=\"hide?id=23777050&amp;goto=news\">hide</a> | <a href=\"item?id=23777050\">7&nbsp;comments</a>              </td></tr>\n",
      "      <tr class=\"spacer\" style=\"height:5px\"></tr>\n",
      "                <tr class='athing' id='23773807'>\n",
      "      <td align=\"right\" valign=\"top\" class=\"title\"><span class=\"rank\">11.</span></td>      <td valign=\"top\" class=\"votelinks\"><center><a id='up_23773807' href='vote?id=23773807&amp;how=up&amp;goto=news'><div class='votearrow' title='upvote'></div></a></center></td><td class=\"title\"><a href=\"https://www.newyorker.com/culture/culture-desk/the-gay-marriages-of-a-nineteenth-century-prison-ship\" class=\"storylink\">The Gay Marriages of a Nineteenth-Century Prison Ship</a><span class=\"sitebit comhead\"> (<a href=\"from?site=newyorker.com\"><span class=\"sitestr\">newyorker.com</span></a>)</span></td></tr><tr><td colspan=\"2\"></td><td class=\"subtext\">\n",
      "        <span class=\"score\" id=\"score_23773807\">10 points</span> by <a href=\"user?id=samclemens\" class=\"hnuser\">samclemens</a> <span class=\"age\"><a href=\"item?id=23773807\">1 hour ago</a></span> <span id=\"unv_23773807\"></span> | <a href=\"hide?id=23773807&amp;goto=news\">hide</a> | <a href=\"item?id=23773807\">2&nbsp;comments</a>              </td></tr>\n",
      "      <tr class=\"spacer\" style=\"height:5px\"></tr>\n",
      "                <tr class='athing' id='23777128'>\n",
      "      <td align=\"right\" valign=\"top\" class=\"title\"><span class=\"rank\">12.</span></td>      <td valign=\"top\" class=\"votelinks\"><center><a id='up_23777128' href='vote?id=23777128&amp;how=up&amp;goto=news'><div class='votearrow' title='upvote'></div></a></center></td><td class=\"title\"><a href=\"https://locusmag.com/2020/07/cory-doctorow-full-employment/\" class=\"storylink\">Full Employment</a><span class=\"sitebit comhead\"> (<a href=\"from?site=locusmag.com\"><span class=\"sitestr\">locusmag.com</span></a>)</span></td></tr><tr><td colspan=\"2\"></td><td class=\"subtext\">\n",
      "        <span class=\"score\" id=\"score_23777128\">40 points</span> by <a href=\"user?id=anigbrowl\" class=\"hnuser\">anigbrowl</a> <span class=\"age\"><a href=\"item?id=23777128\">2 hours ago</a></span> <span id=\"unv_23777128\"></span> | <a href=\"hide?id=23777128&amp;goto=news\">hide</a> | <a href=\"item?id=23777128\">56&nbsp;comments</a>              </td></tr>\n",
      "      <tr class=\"spacer\" style=\"height:5px\"></tr>\n",
      "                <tr class='athing' id='23771756'>\n",
      "      <td align=\"right\" valign=\"top\" class=\"title\"><span class=\"rank\">13.</span></td>      <td valign=\"top\" class=\"votelinks\"><center><a id='up_23771756' href='vote?id=23771756&amp;how=up&amp;goto=news'><div class='votearrow' title='upvote'></div></a></center></td><td class=\"title\"><a href=\"https://www.nytimes.com/2020/07/08/science/polynesian-ancestry.html\" class=\"storylink\">Polynesian DNA suggests epic voyage to South America 800 years ago</a><span class=\"sitebit comhead\"> (<a href=\"from?site=nytimes.com\"><span class=\"sitestr\">nytimes.com</span></a>)</span></td></tr><tr><td colspan=\"2\"></td><td class=\"subtext\">\n",
      "        <span class=\"score\" id=\"score_23771756\">182 points</span> by <a href=\"user?id=digital55\" class=\"hnuser\">digital55</a> <span class=\"age\"><a href=\"item?id=23771756\">13 hours ago</a></span> <span id=\"unv_23771756\"></span> | <a href=\"hide?id=23771756&amp;goto=news\">hide</a> | <a href=\"item?id=23771756\">83&nbsp;comments</a>              </td></tr>\n",
      "      <tr class=\"spacer\" style=\"height:5px\"></tr>\n",
      "                <tr class='athing' id='23776362'>\n",
      "      <td align=\"right\" valign=\"top\" class=\"title\"><span class=\"rank\">14.</span></td>      <td valign=\"top\" class=\"votelinks\"><center><a id='up_23776362' href='vote?id=23776362&amp;how=up&amp;goto=news'><div class='votearrow' title='upvote'></div></a></center></td><td class=\"title\"><a href=\"https://www.jopdesign.com/\" class=\"storylink\">Java Optimized Processor</a><span class=\"sitebit comhead\"> (<a href=\"from?site=jopdesign.com\"><span class=\"sitestr\">jopdesign.com</span></a>)</span></td></tr><tr><td colspan=\"2\"></td><td class=\"subtext\">\n",
      "        <span class=\"score\" id=\"score_23776362\">45 points</span> by <a href=\"user?id=Koshkin\" class=\"hnuser\">Koshkin</a> <span class=\"age\"><a href=\"item?id=23776362\">5 hours ago</a></span> <span id=\"unv_23776362\"></span> | <a href=\"hide?id=23776362&amp;goto=news\">hide</a> | <a href=\"item?id=23776362\">29&nbsp;comments</a>              </td></tr>\n",
      "      <tr class=\"spacer\" style=\"height:5px\"></tr>\n",
      "                <tr class='athing' id='23774521'>\n",
      "      <td align=\"right\" valign=\"top\" class=\"title\"><span class=\"rank\">15.</span></td>      <td valign=\"top\" class=\"votelinks\"><center><a id='up_23774521' href='vote?id=23774521&amp;how=up&amp;goto=news'><div class='votearrow' title='upvote'></div></a></center></td><td class=\"title\"><a href=\"https://kitze.io/posts/saddest-just-ship-it-story-ever\" class=\"storylink\">The saddest “Just Ship It” story</a><span class=\"sitebit comhead\"> (<a href=\"from?site=kitze.io\"><span class=\"sitestr\">kitze.io</span></a>)</span></td></tr><tr><td colspan=\"2\"></td><td class=\"subtext\">\n",
      "        <span class=\"score\" id=\"score_23774521\">193 points</span> by <a href=\"user?id=vvoyer\" class=\"hnuser\">vvoyer</a> <span class=\"age\"><a href=\"item?id=23774521\">10 hours ago</a></span> <span id=\"unv_23774521\"></span> | <a href=\"hide?id=23774521&amp;goto=news\">hide</a> | <a href=\"item?id=23774521\">68&nbsp;comments</a>              </td></tr>\n",
      "      <tr class=\"spacer\" style=\"height:5px\"></tr>\n",
      "                <tr class='athing' id='23775577'>\n",
      "      <td align=\"right\" valign=\"top\" class=\"title\"><span class=\"rank\">16.</span></td>      <td valign=\"top\" class=\"votelinks\"><center><a id='up_23775577' href='vote?id=23775577&amp;how=up&amp;goto=news'><div class='votearrow' title='upvote'></div></a></center></td><td class=\"title\"><a href=\"https://xmpp.org/2020/07/newsletter-01-july/\" class=\"storylink\">XMPP works – 1 July 2020</a><span class=\"sitebit comhead\"> (<a href=\"from?site=xmpp.org\"><span class=\"sitestr\">xmpp.org</span></a>)</span></td></tr><tr><td colspan=\"2\"></td><td class=\"subtext\">\n",
      "        <span class=\"score\" id=\"score_23775577\">60 points</span> by <a href=\"user?id=upofadown\" class=\"hnuser\">upofadown</a> <span class=\"age\"><a href=\"item?id=23775577\">8 hours ago</a></span> <span id=\"unv_23775577\"></span> | <a href=\"hide?id=23775577&amp;goto=news\">hide</a> | <a href=\"item?id=23775577\">39&nbsp;comments</a>              </td></tr>\n",
      "      <tr class=\"spacer\" style=\"height:5px\"></tr>\n",
      "                <tr class='athing' id='23767328'>\n",
      "      <td align=\"right\" valign=\"top\" class=\"title\"><span class=\"rank\">17.</span></td>      <td valign=\"top\" class=\"votelinks\"><center><a id='up_23767328' href='vote?id=23767328&amp;how=up&amp;goto=news'><div class='votearrow' title='upvote'></div></a></center></td><td class=\"title\"><a href=\"https://lord.io/blog/2020/usernames/\" class=\"storylink\">Identity Beyond Usernames</a><span class=\"sitebit comhead\"> (<a href=\"from?site=lord.io\"><span class=\"sitestr\">lord.io</span></a>)</span></td></tr><tr><td colspan=\"2\"></td><td class=\"subtext\">\n",
      "        <span class=\"score\" id=\"score_23767328\">160 points</span> by <a href=\"user?id=polm23\" class=\"hnuser\">polm23</a> <span class=\"age\"><a href=\"item?id=23767328\">12 hours ago</a></span> <span id=\"unv_23767328\"></span> | <a href=\"hide?id=23767328&amp;goto=news\">hide</a> | <a href=\"item?id=23767328\">66&nbsp;comments</a>              </td></tr>\n",
      "      <tr class=\"spacer\" style=\"height:5px\"></tr>\n",
      "                <tr class='athing' id='23772245'>\n",
      "      <td align=\"right\" valign=\"top\" class=\"title\"><span class=\"rank\">18.</span></td>      <td valign=\"top\" class=\"votelinks\"><center><a id='up_23772245' href='vote?id=23772245&amp;how=up&amp;goto=news'><div class='votearrow' title='upvote'></div></a></center></td><td class=\"title\"><a href=\"https://docs.nvidia.com/cuda/cuda-toolkit-release-notes/index.html#cuda-whats-new\" class=\"storylink\">CUDA 11.0</a><span class=\"sitebit comhead\"> (<a href=\"from?site=nvidia.com\"><span class=\"sitestr\">nvidia.com</span></a>)</span></td></tr><tr><td colspan=\"2\"></td><td class=\"subtext\">\n",
      "        <span class=\"score\" id=\"score_23772245\">165 points</span> by <a href=\"user?id=ksec\" class=\"hnuser\">ksec</a> <span class=\"age\"><a href=\"item?id=23772245\">14 hours ago</a></span> <span id=\"unv_23772245\"></span> | <a href=\"hide?id=23772245&amp;goto=news\">hide</a> | <a href=\"item?id=23772245\">53&nbsp;comments</a>              </td></tr>\n",
      "      <tr class=\"spacer\" style=\"height:5px\"></tr>\n",
      "                <tr class='athing' id='23761865'>\n",
      "      <td align=\"right\" valign=\"top\" class=\"title\"><span class=\"rank\">19.</span></td>      <td valign=\"top\" class=\"votelinks\"><center><a id='up_23761865' href='vote?id=23761865&amp;how=up&amp;goto=news'><div class='votearrow' title='upvote'></div></a></center></td><td class=\"title\"><a href=\"https://github.com/athas/raytracers\" class=\"storylink\">Parallel ray tracing benchmark for functional programming languages</a><span class=\"sitebit comhead\"> (<a href=\"from?site=github.com\"><span class=\"sitestr\">github.com</span></a>)</span></td></tr><tr><td colspan=\"2\"></td><td class=\"subtext\">\n",
      "        <span class=\"score\" id=\"score_23761865\">70 points</span> by <a href=\"user?id=marcle\" class=\"hnuser\">marcle</a> <span class=\"age\"><a href=\"item?id=23761865\">8 hours ago</a></span> <span id=\"unv_23761865\"></span> | <a href=\"hide?id=23761865&amp;goto=news\">hide</a> | <a href=\"item?id=23761865\">12&nbsp;comments</a>              </td></tr>\n",
      "      <tr class=\"spacer\" style=\"height:5px\"></tr>\n",
      "                <tr class='athing' id='23775854'>\n",
      "      <td align=\"right\" valign=\"top\" class=\"title\"><span class=\"rank\">20.</span></td>      <td valign=\"top\" class=\"votelinks\"><center><a id='up_23775854' href='vote?id=23775854&amp;how=up&amp;goto=news'><div class='votearrow' title='upvote'></div></a></center></td><td class=\"title\"><a href=\"https://webmonetization.org/\" class=\"storylink\">Web Monetization</a><span class=\"sitebit comhead\"> (<a href=\"from?site=webmonetization.org\"><span class=\"sitestr\">webmonetization.org</span></a>)</span></td></tr><tr><td colspan=\"2\"></td><td class=\"subtext\">\n",
      "        <span class=\"score\" id=\"score_23775854\">82 points</span> by <a href=\"user?id=manx\" class=\"hnuser\">manx</a> <span class=\"age\"><a href=\"item?id=23775854\">7 hours ago</a></span> <span id=\"unv_23775854\"></span> | <a href=\"hide?id=23775854&amp;goto=news\">hide</a> | <a href=\"item?id=23775854\">17&nbsp;comments</a>              </td></tr>\n",
      "      <tr class=\"spacer\" style=\"height:5px\"></tr>\n",
      "                <tr class='athing' id='23777328'>\n",
      "      <td align=\"right\" valign=\"top\" class=\"title\"><span class=\"rank\">21.</span></td>      <td></td><td class=\"title\"><a href=\"https://apply.workable.com/jerry/j/E627670571/\" class=\"storylink\" rel=\"nofollow\">Jerry (YC S17) Is Hiring Senior Software Developers (Silicon Valley; Toronto)</a><span class=\"sitebit comhead\"> (<a href=\"from?site=workable.com\"><span class=\"sitestr\">workable.com</span></a>)</span></td></tr><tr><td colspan=\"2\"></td><td class=\"subtext\">\n",
      "        <span class=\"age\"><a href=\"item?id=23777328\">2 hours ago</a></span> | <a href=\"hide?id=23777328&amp;goto=news\">hide</a>      </td></tr>\n",
      "      <tr class=\"spacer\" style=\"height:5px\"></tr>\n",
      "                <tr class='athing' id='23777537'>\n",
      "      <td align=\"right\" valign=\"top\" class=\"title\"><span class=\"rank\">22.</span></td>      <td valign=\"top\" class=\"votelinks\"><center><a id='up_23777537' href='vote?id=23777537&amp;how=up&amp;goto=news'><div class='votearrow' title='upvote'></div></a></center></td><td class=\"title\"><a href=\"https://smitop.com/post/whiteops-data/\" class=\"storylink\" rel=\"nofollow\">Data WhiteOps Collects (to fingerprint you)</a><span class=\"sitebit comhead\"> (<a href=\"from?site=smitop.com\"><span class=\"sitestr\">smitop.com</span></a>)</span></td></tr><tr><td colspan=\"2\"></td><td class=\"subtext\">\n",
      "        <span class=\"score\" id=\"score_23777537\">3 points</span> by <a href=\"user?id=yuchi\" class=\"hnuser\">yuchi</a> <span class=\"age\"><a href=\"item?id=23777537\">1 hour ago</a></span> <span id=\"unv_23777537\"></span> | <a href=\"hide?id=23777537&amp;goto=news\">hide</a> | <a href=\"item?id=23777537\">1&nbsp;comment</a>              </td></tr>\n",
      "      <tr class=\"spacer\" style=\"height:5px\"></tr>\n",
      "                <tr class='athing' id='23771948'>\n",
      "      <td align=\"right\" valign=\"top\" class=\"title\"><span class=\"rank\">23.</span></td>      <td valign=\"top\" class=\"votelinks\"><center><a id='up_23771948' href='vote?id=23771948&amp;how=up&amp;goto=news'><div class='votearrow' title='upvote'></div></a></center></td><td class=\"title\"><a href=\"https://thecobraeffect.blogspot.com/2020/07/interviewing-programmers.html\" class=\"storylink\">On Interviewing Programmers</a><span class=\"sitebit comhead\"> (<a href=\"from?site=thecobraeffect.blogspot.com\"><span class=\"sitestr\">thecobraeffect.blogspot.com</span></a>)</span></td></tr><tr><td colspan=\"2\"></td><td class=\"subtext\">\n",
      "        <span class=\"score\" id=\"score_23771948\">84 points</span> by <a href=\"user?id=invalidOrTaken\" class=\"hnuser\">invalidOrTaken</a> <span class=\"age\"><a href=\"item?id=23771948\">9 hours ago</a></span> <span id=\"unv_23771948\"></span> | <a href=\"hide?id=23771948&amp;goto=news\">hide</a> | <a href=\"item?id=23771948\">37&nbsp;comments</a>              </td></tr>\n",
      "      <tr class=\"spacer\" style=\"height:5px\"></tr>\n",
      "                <tr class='athing' id='23769982'>\n",
      "      <td align=\"right\" valign=\"top\" class=\"title\"><span class=\"rank\">24.</span></td>      <td valign=\"top\" class=\"votelinks\"><center><a id='up_23769982' href='vote?id=23769982&amp;how=up&amp;goto=news'><div class='votearrow' title='upvote'></div></a></center></td><td class=\"title\"><a href=\"https://www.nytimes.com/2020/07/06/realestate/living-with-your-desk-mates.html\" class=\"storylink\">Living with Your Desk Mates</a><span class=\"sitebit comhead\"> (<a href=\"from?site=nytimes.com\"><span class=\"sitestr\">nytimes.com</span></a>)</span></td></tr><tr><td colspan=\"2\"></td><td class=\"subtext\">\n",
      "        <span class=\"score\" id=\"score_23769982\">19 points</span> by <a href=\"user?id=wallflower\" class=\"hnuser\">wallflower</a> <span class=\"age\"><a href=\"item?id=23769982\">5 hours ago</a></span> <span id=\"unv_23769982\"></span> | <a href=\"hide?id=23769982&amp;goto=news\">hide</a> | <a href=\"item?id=23769982\">6&nbsp;comments</a>              </td></tr>\n",
      "      <tr class=\"spacer\" style=\"height:5px\"></tr>\n",
      "                <tr class='athing' id='23776894'>\n",
      "      <td align=\"right\" valign=\"top\" class=\"title\"><span class=\"rank\">25.</span></td>      <td valign=\"top\" class=\"votelinks\"><center><a id='up_23776894' href='vote?id=23776894&amp;how=up&amp;goto=news'><div class='votearrow' title='upvote'></div></a></center></td><td class=\"title\"><a href=\"item?id=23776894\" class=\"storylink\">Show HN: I built a service to help companies save 35%+ on their AWS bills</a></td></tr><tr><td colspan=\"2\"></td><td class=\"subtext\">\n",
      "        <span class=\"score\" id=\"score_23776894\">15 points</span> by <a href=\"user?id=kavehkhorram\" class=\"hnuser\">kavehkhorram</a> <span class=\"age\"><a href=\"item?id=23776894\">3 hours ago</a></span> <span id=\"unv_23776894\"></span> | <a href=\"hide?id=23776894&amp;goto=news\">hide</a> | <a href=\"item?id=23776894\">9&nbsp;comments</a>              </td></tr>\n",
      "      <tr class=\"spacer\" style=\"height:5px\"></tr>\n",
      "                <tr class='athing' id='23773865'>\n",
      "      <td align=\"right\" valign=\"top\" class=\"title\"><span class=\"rank\">26.</span></td>      <td valign=\"top\" class=\"votelinks\"><center><a id='up_23773865' href='vote?id=23773865&amp;how=up&amp;goto=news'><div class='votearrow' title='upvote'></div></a></center></td><td class=\"title\"><a href=\"https://justanotherelectronicsblog.com/?p=705\" class=\"storylink\">FPGA Softcore SoC Shootout</a><span class=\"sitebit comhead\"> (<a href=\"from?site=justanotherelectronicsblog.com\"><span class=\"sitestr\">justanotherelectronicsblog.com</span></a>)</span></td></tr><tr><td colspan=\"2\"></td><td class=\"subtext\">\n",
      "        <span class=\"score\" id=\"score_23773865\">77 points</span> by <a href=\"user?id=zdw\" class=\"hnuser\">zdw</a> <span class=\"age\"><a href=\"item?id=23773865\">11 hours ago</a></span> <span id=\"unv_23773865\"></span> | <a href=\"hide?id=23773865&amp;goto=news\">hide</a> | <a href=\"item?id=23773865\">4&nbsp;comments</a>              </td></tr>\n",
      "      <tr class=\"spacer\" style=\"height:5px\"></tr>\n",
      "                <tr class='athing' id='23774174'>\n",
      "      <td align=\"right\" valign=\"top\" class=\"title\"><span class=\"rank\">27.</span></td>      <td valign=\"top\" class=\"votelinks\"><center><a id='up_23774174' href='vote?id=23774174&amp;how=up&amp;goto=news'><div class='votearrow' title='upvote'></div></a></center></td><td class=\"title\"><a href=\"https://github.com/jakekgrog/GhostDB\" class=\"storylink\">GhostDB – A Fast Distributed Cache</a><span class=\"sitebit comhead\"> (<a href=\"from?site=github.com\"><span class=\"sitestr\">github.com</span></a>)</span></td></tr><tr><td colspan=\"2\"></td><td class=\"subtext\">\n",
      "        <span class=\"score\" id=\"score_23774174\">73 points</span> by <a href=\"user?id=GhostDBCache\" class=\"hnuser\">GhostDBCache</a> <span class=\"age\"><a href=\"item?id=23774174\">10 hours ago</a></span> <span id=\"unv_23774174\"></span> | <a href=\"hide?id=23774174&amp;goto=news\">hide</a> | <a href=\"item?id=23774174\">18&nbsp;comments</a>              </td></tr>\n",
      "      <tr class=\"spacer\" style=\"height:5px\"></tr>\n",
      "                <tr class='athing' id='23771421'>\n",
      "      <td align=\"right\" valign=\"top\" class=\"title\"><span class=\"rank\">28.</span></td>      <td valign=\"top\" class=\"votelinks\"><center><a id='up_23771421' href='vote?id=23771421&amp;how=up&amp;goto=news'><div class='votearrow' title='upvote'></div></a></center></td><td class=\"title\"><a href=\"https://snapcraft.io/blog/canonical-enables-linux-desktop-app-support-with-flutter\" class=\"storylink\">Flutter for Linux</a><span class=\"sitebit comhead\"> (<a href=\"from?site=snapcraft.io\"><span class=\"sitestr\">snapcraft.io</span></a>)</span></td></tr><tr><td colspan=\"2\"></td><td class=\"subtext\">\n",
      "        <span class=\"score\" id=\"score_23771421\">419 points</span> by <a href=\"user?id=CSharpRon\" class=\"hnuser\">CSharpRon</a> <span class=\"age\"><a href=\"item?id=23771421\">15 hours ago</a></span> <span id=\"unv_23771421\"></span> | <a href=\"hide?id=23771421&amp;goto=news\">hide</a> | <a href=\"item?id=23771421\">183&nbsp;comments</a>              </td></tr>\n",
      "      <tr class=\"spacer\" style=\"height:5px\"></tr>\n",
      "                <tr class='athing' id='23777459'>\n",
      "      <td align=\"right\" valign=\"top\" class=\"title\"><span class=\"rank\">29.</span></td>      <td valign=\"top\" class=\"votelinks\"><center><a id='up_23777459' href='vote?id=23777459&amp;how=up&amp;goto=news'><div class='votearrow' title='upvote'></div></a></center></td><td class=\"title\"><a href=\"item?id=23777459\" class=\"storylink\">Ask HN: What is your favorite low-end setup you've ever done?</a></td></tr><tr><td colspan=\"2\"></td><td class=\"subtext\">\n",
      "        <span class=\"score\" id=\"score_23777459\">20 points</span> by <a href=\"user?id=mod50ack\" class=\"hnuser\">mod50ack</a> <span class=\"age\"><a href=\"item?id=23777459\">1 hour ago</a></span> <span id=\"unv_23777459\"></span> | <a href=\"hide?id=23777459&amp;goto=news\">hide</a> | <a href=\"item?id=23777459\">14&nbsp;comments</a>              </td></tr>\n",
      "      <tr class=\"spacer\" style=\"height:5px\"></tr>\n",
      "                <tr class='athing' id='23770214'>\n",
      "      <td align=\"right\" valign=\"top\" class=\"title\"><span class=\"rank\">30.</span></td>      <td valign=\"top\" class=\"votelinks\"><center><a id='up_23770214' href='vote?id=23770214&amp;how=up&amp;goto=news'><div class='votearrow' title='upvote'></div></a></center></td><td class=\"title\"><a href=\"item?id=23770214\" class=\"storylink\">Launch HN: ElectroNeek (YC W20) – Automatically find and automate routine work</a></td></tr><tr><td colspan=\"2\"></td><td class=\"subtext\">\n",
      "        <span class=\"score\" id=\"score_23770214\">110 points</span> by <a href=\"user?id=Digitaltzar\" class=\"hnuser\">Digitaltzar</a> <span class=\"age\"><a href=\"item?id=23770214\">17 hours ago</a></span> <span id=\"unv_23770214\"></span> | <a href=\"hide?id=23770214&amp;goto=news\">hide</a> | <a href=\"item?id=23770214\">42&nbsp;comments</a>              </td></tr>\n",
      "      <tr class=\"spacer\" style=\"height:5px\"></tr>\n",
      "            <tr class=\"morespace\" style=\"height:10px\"></tr><tr><td colspan=\"2\"></td><td class=\"title\"><a href=\"news?p=2\" class=\"morelink\" rel=\"next\">More</a></td></tr>\n",
      "  </table>\n",
      "</td></tr>\n",
      "<tr><td><img src=\"s.gif\" height=\"10\" width=\"0\"><table width=\"100%\" cellspacing=\"0\" cellpadding=\"1\"><tr><td bgcolor=\"#ff6600\"></td></tr></table><br><center><span class=\"yclinks\"><a href=\"newsguidelines.html\">Guidelines</a>\n",
      "        | <a href=\"newsfaq.html\">FAQ</a>\n",
      "        | <a href=\"mailto:hn@ycombinator.com\">Support</a>\n",
      "        | <a href=\"https://github.com/HackerNews/API\">API</a>\n",
      "        | <a href=\"security.html\">Security</a>\n",
      "        | <a href=\"lists\">Lists</a>\n",
      "        | <a href=\"bookmarklet.html\" rel=\"nofollow\">Bookmarklet</a>\n",
      "        | <a href=\"http://www.ycombinator.com/legal/\">Legal</a>\n",
      "        | <a href=\"http://www.ycombinator.com/apply/\">Apply to YC</a>\n",
      "        | <a href=\"mailto:hn@ycombinator.com\">Contact</a></span><br><br><form method=\"get\" action=\"//hn.algolia.com/\">Search:\n",
      "          <input type=\"text\" name=\"q\" value=\"\" size=\"17\" autocorrect=\"off\" spellcheck=\"false\" autocapitalize=\"off\" autocomplete=\"false\"></form>\n",
      "            </center></td></tr>\n",
      "      </table></center></body><script type='text/javascript' src='hn.js?xxZKMVXn3yWHa2NZs4FV'></script></html>\n",
      "\n"
     ]
    }
   ],
   "source": [
    "import requests\n",
    "\n",
    "# Fetch a web page\n",
    "r = requests.get(\"https://news.ycombinator.com\")\n",
    "print(r.text)"
   ]
  },
  {
   "cell_type": "code",
   "execution_count": 5,
   "metadata": {},
   "outputs": [
    {
     "name": "stdout",
     "output_type": "stream",
     "text": [
      "\n",
      "        \n",
      "          \n",
      "        Hacker News\n",
      "        \n",
      "                  Hacker News\n",
      "              new | past | comments | ask | show | jobs | submit            \n",
      "                              login\n",
      "                          \n",
      "              \n",
      "\n",
      "              \n",
      "      1.      Moving from TypeScript to Rust / WebAssembly (nicolodavis.com)\n",
      "        251 points by nicolodavis 5 hours ago  | hide | 147&nbsp;comments              \n",
      "      \n",
      "                \n",
      "      2.      Reddit's website uses DRM for fingerprinting (smitop.com)\n",
      "        653 points by smitop 10 hours ago  | hide | 330&nbsp;comments              \n",
      "      \n",
      "                \n",
      "      3.      We can't send email more than 500 miles (2002) (web.mit.edu)\n",
      "        493 points by alanpage 8 hours ago  | hide | 72&nbsp;comments              \n",
      "      \n",
      "                \n",
      "      4.      Linux Mint drops Ubuntu Snap packages (lwn.net)\n",
      "        920 points by jonquark 15 hours ago  | hide | 395&nbsp;comments              \n",
      "      \n",
      "                \n",
      "      5.      RediSearch – Redis Powered Search Engine (redislabs.com)\n",
      "        29 points by gilad 1 hour ago  | hide | 6&nbsp;comments              \n",
      "      \n",
      "                \n",
      "      6.      Why IBM Doesn’t Agree with Google’s Open Usage Commons for the Istio Project (ibm.com)\n",
      "        64 points by bharatsb 3 hours ago  | hide | 14&nbsp;comments              \n",
      "      \n",
      "                \n",
      "      7.      New JavaScript code generator has landed in Idris 2 (github.com)\n",
      "        17 points by ska80 2 hours ago  | hide | discuss              \n",
      "      \n",
      "                \n",
      "      8.      MoreOnionsPorfavor: Onionize your website and take back the internet (torproject.org)\n",
      "        144 points by worldofmatthew 7 hours ago  | hide | 76&nbsp;comments              \n",
      "      \n",
      "                \n",
      "      9.      Native American gene flow into Polynesia predating Easter Island settlement (nature.com)\n",
      "        15 points by Thevet 3 hours ago  | hide | 3&nbsp;comments              \n",
      "      \n",
      "                \n",
      "      10.      Vienna, City of Paradox (aeon.co)\n",
      "        27 points by tintinnabula 3 hours ago  | hide | 6&nbsp;comments              \n",
      "      \n",
      "                \n",
      "      11.      The Gay Marriages of a Nineteenth-Century Prison Ship (newyorker.com)\n",
      "        10 points by samclemens 1 hour ago  | hide | 2&nbsp;comments              \n",
      "      \n",
      "                \n",
      "      12.      Full Employment (locusmag.com)\n",
      "        40 points by anigbrowl 2 hours ago  | hide | 55&nbsp;comments              \n",
      "      \n",
      "                \n",
      "      13.      Polynesian DNA suggests epic voyage to South America 800 years ago (nytimes.com)\n",
      "        182 points by digital55 13 hours ago  | hide | 83&nbsp;comments              \n",
      "      \n",
      "                \n",
      "      14.      Java Optimized Processor (jopdesign.com)\n",
      "        45 points by Koshkin 5 hours ago  | hide | 29&nbsp;comments              \n",
      "      \n",
      "                \n",
      "      15.      XMPP works – 1 July 2020 (xmpp.org)\n",
      "        60 points by upofadown 8 hours ago  | hide | 39&nbsp;comments              \n",
      "      \n",
      "                \n",
      "      16.      The saddest “Just Ship It” story (kitze.io)\n",
      "        191 points by vvoyer 10 hours ago  | hide | 67&nbsp;comments              \n",
      "      \n",
      "                \n",
      "      17.      Identity Beyond Usernames (lord.io)\n",
      "        160 points by polm23 12 hours ago  | hide | 66&nbsp;comments              \n",
      "      \n",
      "                \n",
      "      18.      CUDA 11.0 (nvidia.com)\n",
      "        165 points by ksec 14 hours ago  | hide | 53&nbsp;comments              \n",
      "      \n",
      "                \n",
      "      19.      Parallel ray tracing benchmark for functional programming languages (github.com)\n",
      "        70 points by marcle 8 hours ago  | hide | 12&nbsp;comments              \n",
      "      \n",
      "                \n",
      "      20.      Web Monetization (webmonetization.org)\n",
      "        81 points by manx 7 hours ago  | hide | 17&nbsp;comments              \n",
      "      \n",
      "                \n",
      "      21.      Jerry (YC S17) Is Hiring Senior Software Developers (Silicon Valley; Toronto) (workable.com)\n",
      "        2 hours ago | hide      \n",
      "      \n",
      "                \n",
      "      22.      Data WhiteOps Collects (to fingerprint you) (smitop.com)\n",
      "        3 points by yuchi 1 hour ago  | hide | 1&nbsp;comment              \n",
      "      \n",
      "                \n",
      "      23.      On Interviewing Programmers (thecobraeffect.blogspot.com)\n",
      "        84 points by invalidOrTaken 9 hours ago  | hide | 37&nbsp;comments              \n",
      "      \n",
      "                \n",
      "      24.      Living with Your Desk Mates (nytimes.com)\n",
      "        19 points by wallflower 5 hours ago  | hide | 6&nbsp;comments              \n",
      "      \n",
      "                \n",
      "      25.      Show HN: I built a service to help companies save 35%+ on their AWS bills\n",
      "        15 points by kavehkhorram 3 hours ago  | hide | 9&nbsp;comments              \n",
      "      \n",
      "                \n",
      "      26.      FPGA Softcore SoC Shootout (justanotherelectronicsblog.com)\n",
      "        77 points by zdw 11 hours ago  | hide | 4&nbsp;comments              \n",
      "      \n",
      "                \n",
      "      27.      GhostDB – A Fast Distributed Cache (github.com)\n",
      "        73 points by GhostDBCache 10 hours ago  | hide | 18&nbsp;comments              \n",
      "      \n",
      "                \n",
      "      28.      Flutter for Linux (snapcraft.io)\n",
      "        419 points by CSharpRon 15 hours ago  | hide | 182&nbsp;comments              \n",
      "      \n",
      "                \n",
      "      29.      Ask HN: What is your favorite low-end setup you've ever done?\n",
      "        20 points by mod50ack 1 hour ago  | hide | 12&nbsp;comments              \n",
      "      \n",
      "                \n",
      "      30.      Launch HN: ElectroNeek (YC W20) – Automatically find and automate routine work\n",
      "        110 points by Digitaltzar 17 hours ago  | hide | 42&nbsp;comments              \n",
      "      \n",
      "            More\n",
      "  \n",
      "\n",
      "Guidelines\n",
      "        | FAQ\n",
      "        | Support\n",
      "        | API\n",
      "        | Security\n",
      "        | Lists\n",
      "        | Bookmarklet\n",
      "        | Legal\n",
      "        | Apply to YC\n",
      "        | ContactSearch:\n",
      "          \n",
      "            \n",
      "      \n",
      "\n"
     ]
    }
   ],
   "source": [
    "import re\n",
    "\n",
    "# Remove HTML tags using RegEx\n",
    "pattern = re.compile(r'<.*?>')  # tags look like <...>\n",
    "print(pattern.sub('', r.text))  # replace them with blank"
   ]
  },
  {
   "cell_type": "code",
   "execution_count": 8,
   "metadata": {},
   "outputs": [
    {
     "name": "stdout",
     "output_type": "stream",
     "text": [
      "\n",
      "        \n",
      "          \n",
      "        Hacker News\n",
      "        \n",
      "                  Hacker News\n",
      "              new | past | comments | ask | show | jobs | submit            \n",
      "                              login\n",
      "                          \n",
      "              \n",
      "\n",
      "              \n",
      "      1.      Moving from TypeScript to Rust / WebAssembly (nicolodavis.com)\n",
      "        251 points by nicolodavis 5 hours ago  | hide | 148 comments              \n",
      "      \n",
      "                \n",
      "      2.      Reddit's website uses DRM for fingerprinting (smitop.com)\n",
      "        656 points by smitop 10 hours ago  | hide | 330 comments              \n",
      "      \n",
      "                \n",
      "      3.      We can't send email more than 500 miles (2002) (web.mit.edu)\n",
      "        495 points by alanpage 8 hours ago  | hide | 72 comments              \n",
      "      \n",
      "                \n",
      "      4.      Linux Mint drops Ubuntu Snap packages (lwn.net)\n",
      "        921 points by jonquark 15 hours ago  | hide | 396 comments              \n",
      "      \n",
      "                \n",
      "      5.      RediSearch – Redis Powered Search Engine (redislabs.com)\n",
      "        29 points by gilad 1 hour ago  | hide | 7 comments              \n",
      "      \n",
      "                \n",
      "      6.      Why IBM Doesn’t Agree with Google’s Open Usage Commons for the Istio Project (ibm.com)\n",
      "        65 points by bharatsb 3 hours ago  | hide | 14 comments              \n",
      "      \n",
      "                \n",
      "      7.      New JavaScript code generator has landed in Idris 2 (github.com)\n",
      "        18 points by ska80 2 hours ago  | hide | discuss              \n",
      "      \n",
      "                \n",
      "      8.      MoreOnionsPorfavor: Onionize your website and take back the internet (torproject.org)\n",
      "        145 points by worldofmatthew 7 hours ago  | hide | 76 comments              \n",
      "      \n",
      "                \n",
      "      9.      Native American gene flow into Polynesia predating Easter Island settlement (nature.com)\n",
      "        16 points by Thevet 3 hours ago  | hide | 3 comments              \n",
      "      \n",
      "                \n",
      "      10.      Vienna, City of Paradox (aeon.co)\n",
      "        27 points by tintinnabula 3 hours ago  | hide | 7 comments              \n",
      "      \n",
      "                \n",
      "      11.      The Gay Marriages of a Nineteenth-Century Prison Ship (newyorker.com)\n",
      "        10 points by samclemens 1 hour ago  | hide | 2 comments              \n",
      "      \n",
      "                \n",
      "      12.      Full Employment (locusmag.com)\n",
      "        40 points by anigbrowl 2 hours ago  | hide | 56 comments              \n",
      "      \n",
      "                \n",
      "      13.      Polynesian DNA suggests epic voyage to South America 800 years ago (nytimes.com)\n",
      "        182 points by digital55 13 hours ago  | hide | 83 comments              \n",
      "      \n",
      "                \n",
      "      14.      Java Optimized Processor (jopdesign.com)\n",
      "        45 points by Koshkin 5 hours ago  | hide | 29 comments              \n",
      "      \n",
      "                \n",
      "      15.      The saddest “Just Ship It” story (kitze.io)\n",
      "        193 points by vvoyer 10 hours ago  | hide | 68 comments              \n",
      "      \n",
      "                \n",
      "      16.      XMPP works – 1 July 2020 (xmpp.org)\n",
      "        60 points by upofadown 8 hours ago  | hide | 39 comments              \n",
      "      \n",
      "                \n",
      "      17.      Identity Beyond Usernames (lord.io)\n",
      "        160 points by polm23 12 hours ago  | hide | 66 comments              \n",
      "      \n",
      "                \n",
      "      18.      CUDA 11.0 (nvidia.com)\n",
      "        165 points by ksec 14 hours ago  | hide | 53 comments              \n",
      "      \n",
      "                \n",
      "      19.      Parallel ray tracing benchmark for functional programming languages (github.com)\n",
      "        70 points by marcle 8 hours ago  | hide | 12 comments              \n",
      "      \n",
      "                \n",
      "      20.      Web Monetization (webmonetization.org)\n",
      "        82 points by manx 7 hours ago  | hide | 17 comments              \n",
      "      \n",
      "                \n",
      "      21.      Jerry (YC S17) Is Hiring Senior Software Developers (Silicon Valley; Toronto) (workable.com)\n",
      "        2 hours ago | hide      \n",
      "      \n",
      "                \n",
      "      22.      Data WhiteOps Collects (to fingerprint you) (smitop.com)\n",
      "        3 points by yuchi 1 hour ago  | hide | 1 comment              \n",
      "      \n",
      "                \n",
      "      23.      On Interviewing Programmers (thecobraeffect.blogspot.com)\n",
      "        84 points by invalidOrTaken 9 hours ago  | hide | 37 comments              \n",
      "      \n",
      "                \n",
      "      24.      Living with Your Desk Mates (nytimes.com)\n",
      "        19 points by wallflower 5 hours ago  | hide | 6 comments              \n",
      "      \n",
      "                \n",
      "      25.      Show HN: I built a service to help companies save 35%+ on their AWS bills\n",
      "        15 points by kavehkhorram 3 hours ago  | hide | 9 comments              \n",
      "      \n",
      "                \n",
      "      26.      FPGA Softcore SoC Shootout (justanotherelectronicsblog.com)\n",
      "        77 points by zdw 11 hours ago  | hide | 4 comments              \n",
      "      \n",
      "                \n",
      "      27.      GhostDB – A Fast Distributed Cache (github.com)\n",
      "        73 points by GhostDBCache 10 hours ago  | hide | 18 comments              \n",
      "      \n",
      "                \n",
      "      28.      Flutter for Linux (snapcraft.io)\n",
      "        419 points by CSharpRon 15 hours ago  | hide | 183 comments              \n",
      "      \n",
      "                \n",
      "      29.      Ask HN: What is your favorite low-end setup you've ever done?\n",
      "        20 points by mod50ack 1 hour ago  | hide | 14 comments              \n",
      "      \n",
      "                \n",
      "      30.      Launch HN: ElectroNeek (YC W20) – Automatically find and automate routine work\n",
      "        110 points by Digitaltzar 17 hours ago  | hide | 42 comments              \n",
      "      \n",
      "            More\n",
      "  \n",
      "\n",
      "Guidelines\n",
      "        | FAQ\n",
      "        | Support\n",
      "        | API\n",
      "        | Security\n",
      "        | Lists\n",
      "        | Bookmarklet\n",
      "        | Legal\n",
      "        | Apply to YC\n",
      "        | ContactSearch:\n",
      "          \n",
      "            \n",
      "      \n",
      "\n"
     ]
    }
   ],
   "source": [
    "from bs4 import BeautifulSoup\n",
    "\n",
    "# Remove HTML tags using Beautiful Soup library\n",
    "soup = BeautifulSoup(r.text, \"html5lib\")\n",
    "print(soup.get_text())"
   ]
  },
  {
   "cell_type": "code",
   "execution_count": 9,
   "metadata": {
    "scrolled": true
   },
   "outputs": [
    {
     "data": {
      "text/plain": [
       "<tr class=\"athing\" id=\"23776514\">\n",
       "      <td align=\"right\" class=\"title\" valign=\"top\"><span class=\"rank\">1.</span></td>      <td class=\"votelinks\" valign=\"top\"><center><a href=\"vote?id=23776514&amp;how=up&amp;goto=news\" id=\"up_23776514\"><div class=\"votearrow\" title=\"upvote\"></div></a></center></td><td class=\"title\"><a class=\"storylink\" href=\"https://nicolodavis.com/blog/typescript-to-rust/\">Moving from TypeScript to Rust / WebAssembly</a><span class=\"sitebit comhead\"> (<a href=\"from?site=nicolodavis.com\"><span class=\"sitestr\">nicolodavis.com</span></a>)</span></td></tr>"
      ]
     },
     "execution_count": 9,
     "metadata": {},
     "output_type": "execute_result"
    }
   ],
   "source": [
    "# Find all articles\n",
    "summaries = soup.find_all(\"tr\", class_=\"athing\")\n",
    "summaries[0]"
   ]
  },
  {
   "cell_type": "code",
   "execution_count": 10,
   "metadata": {},
   "outputs": [
    {
     "data": {
      "text/plain": [
       "'Moving from TypeScript to Rust / WebAssembly'"
      ]
     },
     "execution_count": 10,
     "metadata": {},
     "output_type": "execute_result"
    }
   ],
   "source": [
    "# Extract title\n",
    "summaries[0].find(\"a\", class_=\"storylink\").get_text().strip()"
   ]
  },
  {
   "cell_type": "code",
   "execution_count": 11,
   "metadata": {},
   "outputs": [
    {
     "name": "stdout",
     "output_type": "stream",
     "text": [
      "30 Article summaries found. Sample:\n",
      "Moving from TypeScript to Rust / WebAssembly\n"
     ]
    }
   ],
   "source": [
    "# Find all articles, extract titles\n",
    "articles = []\n",
    "summaries = soup.find_all(\"tr\", class_=\"athing\")\n",
    "for summary in summaries:\n",
    "    title = summary.find(\"a\", class_=\"storylink\").get_text().strip()\n",
    "    articles.append((title))\n",
    "\n",
    "print(len(articles), \"Article summaries found. Sample:\")\n",
    "print(articles[0])"
   ]
  },
  {
   "cell_type": "markdown",
   "metadata": {
    "collapsed": true
   },
   "source": [
    "## Normalization"
   ]
  },
  {
   "cell_type": "markdown",
   "metadata": {},
   "source": [
    "### Case Normalization"
   ]
  },
  {
   "cell_type": "code",
   "execution_count": 12,
   "metadata": {},
   "outputs": [
    {
     "name": "stdout",
     "output_type": "stream",
     "text": [
      "The first time you see The Second Renaissance it may look boring. Look at it at least twice and definitely watch part 2. It will change your view of the matrix. Are the human people the ones who started the war ? Is AI a bad thing ?\n"
     ]
    }
   ],
   "source": [
    "# Sample text\n",
    "text = \"The first time you see The Second Renaissance it may look boring. Look at it at least twice and definitely watch part 2. It will change your view of the matrix. Are the human people the ones who started the war ? Is AI a bad thing ?\"\n",
    "print(text)"
   ]
  },
  {
   "cell_type": "code",
   "execution_count": 13,
   "metadata": {},
   "outputs": [
    {
     "name": "stdout",
     "output_type": "stream",
     "text": [
      "the first time you see the second renaissance it may look boring. look at it at least twice and definitely watch part 2. it will change your view of the matrix. are the human people the ones who started the war ? is ai a bad thing ?\n"
     ]
    }
   ],
   "source": [
    "# Convert to lowercase\n",
    "text = text.lower() \n",
    "print(text)"
   ]
  },
  {
   "cell_type": "markdown",
   "metadata": {},
   "source": [
    "### Punctuation Removal"
   ]
  },
  {
   "cell_type": "code",
   "execution_count": 14,
   "metadata": {},
   "outputs": [
    {
     "name": "stdout",
     "output_type": "stream",
     "text": [
      "the first time you see the second renaissance it may look boring  look at it at least twice and definitely watch part 2  it will change your view of the matrix  are the human people the ones who started the war   is ai a bad thing  \n"
     ]
    }
   ],
   "source": [
    "import re\n",
    "\n",
    "# Remove punctuation characters\n",
    "text = re.sub(r\"[^a-zA-Z0-9]\", \" \", text) \n",
    "print(text)"
   ]
  },
  {
   "cell_type": "markdown",
   "metadata": {},
   "source": [
    "## Tokenization"
   ]
  },
  {
   "cell_type": "code",
   "execution_count": 15,
   "metadata": {},
   "outputs": [
    {
     "name": "stdout",
     "output_type": "stream",
     "text": [
      "['the', 'first', 'time', 'you', 'see', 'the', 'second', 'renaissance', 'it', 'may', 'look', 'boring', 'look', 'at', 'it', 'at', 'least', 'twice', 'and', 'definitely', 'watch', 'part', '2', 'it', 'will', 'change', 'your', 'view', 'of', 'the', 'matrix', 'are', 'the', 'human', 'people', 'the', 'ones', 'who', 'started', 'the', 'war', 'is', 'ai', 'a', 'bad', 'thing']\n"
     ]
    }
   ],
   "source": [
    "# Split text into tokens (words)\n",
    "words = text.split()\n",
    "print(words)"
   ]
  },
  {
   "cell_type": "markdown",
   "metadata": {},
   "source": [
    "### NLTK: Natural Language ToolKit"
   ]
  },
  {
   "cell_type": "code",
   "execution_count": 16,
   "metadata": {},
   "outputs": [],
   "source": [
    "import os\n",
    "import nltk\n",
    "nltk.data.path.append(os.path.join(os.getcwd(), \"nltk_data\"))"
   ]
  },
  {
   "cell_type": "code",
   "execution_count": 17,
   "metadata": {},
   "outputs": [
    {
     "name": "stdout",
     "output_type": "stream",
     "text": [
      "Dr. Smith graduated from the University of Washington. He later started an analytics firm called Lux, which catered to enterprise customers.\n"
     ]
    }
   ],
   "source": [
    "# Another sample text\n",
    "text = \"Dr. Smith graduated from the University of Washington. He later started an analytics firm called Lux, which catered to enterprise customers.\"\n",
    "print(text)"
   ]
  },
  {
   "cell_type": "code",
   "execution_count": 18,
   "metadata": {},
   "outputs": [
    {
     "name": "stdout",
     "output_type": "stream",
     "text": [
      "['Dr.', 'Smith', 'graduated', 'from', 'the', 'University', 'of', 'Washington', '.', 'He', 'later', 'started', 'an', 'analytics', 'firm', 'called', 'Lux', ',', 'which', 'catered', 'to', 'enterprise', 'customers', '.']\n"
     ]
    }
   ],
   "source": [
    "from nltk.tokenize import word_tokenize\n",
    "\n",
    "# Split text into words using NLTK\n",
    "words = word_tokenize(text)\n",
    "print(words)"
   ]
  },
  {
   "cell_type": "code",
   "execution_count": 19,
   "metadata": {},
   "outputs": [
    {
     "name": "stdout",
     "output_type": "stream",
     "text": [
      "['Dr. Smith graduated from the University of Washington.', 'He later started an analytics firm called Lux, which catered to enterprise customers.']\n"
     ]
    }
   ],
   "source": [
    "from nltk.tokenize import sent_tokenize\n",
    "\n",
    "# Split text into sentences\n",
    "sentences = sent_tokenize(text)\n",
    "print(sentences)"
   ]
  },
  {
   "cell_type": "code",
   "execution_count": 20,
   "metadata": {},
   "outputs": [
    {
     "name": "stdout",
     "output_type": "stream",
     "text": [
      "['i', 'me', 'my', 'myself', 'we', 'our', 'ours', 'ourselves', 'you', \"you're\", \"you've\", \"you'll\", \"you'd\", 'your', 'yours', 'yourself', 'yourselves', 'he', 'him', 'his', 'himself', 'she', \"she's\", 'her', 'hers', 'herself', 'it', \"it's\", 'its', 'itself', 'they', 'them', 'their', 'theirs', 'themselves', 'what', 'which', 'who', 'whom', 'this', 'that', \"that'll\", 'these', 'those', 'am', 'is', 'are', 'was', 'were', 'be', 'been', 'being', 'have', 'has', 'had', 'having', 'do', 'does', 'did', 'doing', 'a', 'an', 'the', 'and', 'but', 'if', 'or', 'because', 'as', 'until', 'while', 'of', 'at', 'by', 'for', 'with', 'about', 'against', 'between', 'into', 'through', 'during', 'before', 'after', 'above', 'below', 'to', 'from', 'up', 'down', 'in', 'out', 'on', 'off', 'over', 'under', 'again', 'further', 'then', 'once', 'here', 'there', 'when', 'where', 'why', 'how', 'all', 'any', 'both', 'each', 'few', 'more', 'most', 'other', 'some', 'such', 'no', 'nor', 'not', 'only', 'own', 'same', 'so', 'than', 'too', 'very', 's', 't', 'can', 'will', 'just', 'don', \"don't\", 'should', \"should've\", 'now', 'd', 'll', 'm', 'o', 're', 've', 'y', 'ain', 'aren', \"aren't\", 'couldn', \"couldn't\", 'didn', \"didn't\", 'doesn', \"doesn't\", 'hadn', \"hadn't\", 'hasn', \"hasn't\", 'haven', \"haven't\", 'isn', \"isn't\", 'ma', 'mightn', \"mightn't\", 'mustn', \"mustn't\", 'needn', \"needn't\", 'shan', \"shan't\", 'shouldn', \"shouldn't\", 'wasn', \"wasn't\", 'weren', \"weren't\", 'won', \"won't\", 'wouldn', \"wouldn't\"]\n"
     ]
    }
   ],
   "source": [
    "# List stop words\n",
    "from nltk.corpus import stopwords\n",
    "print(stopwords.words(\"english\"))"
   ]
  },
  {
   "cell_type": "code",
   "execution_count": 21,
   "metadata": {},
   "outputs": [
    {
     "name": "stdout",
     "output_type": "stream",
     "text": [
      "['the', 'first', 'time', 'you', 'see', 'the', 'second', 'renaissance', 'it', 'may', 'look', 'boring', 'look', 'at', 'it', 'at', 'least', 'twice', 'and', 'definitely', 'watch', 'part', '2', 'it', 'will', 'change', 'your', 'view', 'of', 'the', 'matrix', 'are', 'the', 'human', 'people', 'the', 'ones', 'who', 'started', 'the', 'war', 'is', 'ai', 'a', 'bad', 'thing']\n"
     ]
    }
   ],
   "source": [
    "# Reset text\n",
    "text = \"The first time you see The Second Renaissance it may look boring. Look at it at least twice and definitely watch part 2. It will change your view of the matrix. Are the human people the ones who started the war ? Is AI a bad thing ?\"\n",
    "\n",
    "# Normalize it\n",
    "text = re.sub(r\"[^a-zA-Z0-9]\", \" \", text.lower())\n",
    "\n",
    "# Tokenize it\n",
    "words = text.split()\n",
    "print(words)"
   ]
  },
  {
   "cell_type": "code",
   "execution_count": 22,
   "metadata": {},
   "outputs": [
    {
     "name": "stdout",
     "output_type": "stream",
     "text": [
      "['first', 'time', 'see', 'second', 'renaissance', 'may', 'look', 'boring', 'look', 'least', 'twice', 'definitely', 'watch', 'part', '2', 'change', 'view', 'matrix', 'human', 'people', 'ones', 'started', 'war', 'ai', 'bad', 'thing']\n"
     ]
    }
   ],
   "source": [
    "# Remove stop words\n",
    "words = [w for w in words if w not in stopwords.words(\"english\")]\n",
    "print(words)"
   ]
  },
  {
   "cell_type": "markdown",
   "metadata": {},
   "source": [
    "### Sentence Parsing"
   ]
  },
  {
   "cell_type": "code",
   "execution_count": 23,
   "metadata": {},
   "outputs": [
    {
     "name": "stdout",
     "output_type": "stream",
     "text": [
      "(S\n",
      "  (NP I)\n",
      "  (VP\n",
      "    (VP (V shot) (NP (Det an) (N elephant)))\n",
      "    (PP (P in) (NP (Det my) (N pajamas)))))\n",
      "(S\n",
      "  (NP I)\n",
      "  (VP\n",
      "    (V shot)\n",
      "    (NP (Det an) (N elephant) (PP (P in) (NP (Det my) (N pajamas))))))\n"
     ]
    }
   ],
   "source": [
    "import nltk\n",
    "\n",
    "# Define a custom grammar\n",
    "my_grammar = nltk.CFG.fromstring(\"\"\"\n",
    "S -> NP VP\n",
    "PP -> P NP\n",
    "NP -> Det N | Det N PP | 'I'\n",
    "VP -> V NP | VP PP\n",
    "Det -> 'an' | 'my'\n",
    "N -> 'elephant' | 'pajamas'\n",
    "V -> 'shot'\n",
    "P -> 'in'\n",
    "\"\"\")\n",
    "parser = nltk.ChartParser(my_grammar)\n",
    "\n",
    "# Parse a sentence\n",
    "sentence = word_tokenize(\"I shot an elephant in my pajamas\")\n",
    "for tree in parser.parse(sentence):\n",
    "    print(tree)"
   ]
  },
  {
   "cell_type": "markdown",
   "metadata": {},
   "source": [
    "## Stemming & Lemmatization\n",
    "\n",
    "### Stemming"
   ]
  },
  {
   "cell_type": "code",
   "execution_count": 24,
   "metadata": {},
   "outputs": [
    {
     "name": "stdout",
     "output_type": "stream",
     "text": [
      "['first', 'time', 'see', 'second', 'renaiss', 'may', 'look', 'bore', 'look', 'least', 'twice', 'definit', 'watch', 'part', '2', 'chang', 'view', 'matrix', 'human', 'peopl', 'one', 'start', 'war', 'ai', 'bad', 'thing']\n"
     ]
    }
   ],
   "source": [
    "from nltk.stem.porter import PorterStemmer\n",
    "\n",
    "# Reduce words to their stems\n",
    "stemmed = [PorterStemmer().stem(w) for w in words]\n",
    "print(stemmed)"
   ]
  },
  {
   "cell_type": "markdown",
   "metadata": {},
   "source": [
    "### Lemmatization"
   ]
  },
  {
   "cell_type": "code",
   "execution_count": 25,
   "metadata": {},
   "outputs": [
    {
     "name": "stdout",
     "output_type": "stream",
     "text": [
      "['first', 'time', 'see', 'second', 'renaissance', 'may', 'look', 'boring', 'look', 'least', 'twice', 'definitely', 'watch', 'part', '2', 'change', 'view', 'matrix', 'human', 'people', 'one', 'started', 'war', 'ai', 'bad', 'thing']\n"
     ]
    }
   ],
   "source": [
    "from nltk.stem.wordnet import WordNetLemmatizer\n",
    "\n",
    "# Reduce words to their root form\n",
    "lemmed = [WordNetLemmatizer().lemmatize(w) for w in words]\n",
    "print(lemmed)"
   ]
  },
  {
   "cell_type": "code",
   "execution_count": 26,
   "metadata": {},
   "outputs": [
    {
     "name": "stdout",
     "output_type": "stream",
     "text": [
      "['first', 'time', 'see', 'second', 'renaissance', 'may', 'look', 'bore', 'look', 'least', 'twice', 'definitely', 'watch', 'part', '2', 'change', 'view', 'matrix', 'human', 'people', 'one', 'start', 'war', 'ai', 'bad', 'thing']\n"
     ]
    }
   ],
   "source": [
    "# Lemmatize verbs by specifying pos\n",
    "lemmed = [WordNetLemmatizer().lemmatize(w, pos='v') for w in lemmed]\n",
    "print(lemmed)"
   ]
  },
  {
   "cell_type": "code",
   "execution_count": null,
   "metadata": {},
   "outputs": [],
   "source": []
  }
 ],
 "metadata": {
  "kernelspec": {
   "display_name": "Python 3",
   "language": "python",
   "name": "python3"
  },
  "language_info": {
   "codemirror_mode": {
    "name": "ipython",
    "version": 3
   },
   "file_extension": ".py",
   "mimetype": "text/x-python",
   "name": "python",
   "nbconvert_exporter": "python",
   "pygments_lexer": "ipython3",
   "version": "3.6.3"
  }
 },
 "nbformat": 4,
 "nbformat_minor": 2
}
