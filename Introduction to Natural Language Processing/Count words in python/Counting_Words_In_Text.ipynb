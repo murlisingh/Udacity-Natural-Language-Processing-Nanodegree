{
  "nbformat": 4,
  "nbformat_minor": 0,
  "metadata": {
    "colab": {
      "name": "Counting_Words_In_Text.ipynb",
      "provenance": [],
      "collapsed_sections": []
    },
    "kernelspec": {
      "name": "python3",
      "display_name": "Python 3"
    }
  },
  "cells": [
    {
      "cell_type": "markdown",
      "metadata": {
        "id": "mf8Blu5c4ScR",
        "colab_type": "text"
      },
      "source": [
        "## **Defining a function Count_Words**\n",
        "\n",
        "---\n",
        "\n"
      ]
    },
    {
      "cell_type": "code",
      "metadata": {
        "id": "ffmyxyZz4hTT",
        "colab_type": "code",
        "colab": {}
      },
      "source": [
        "import re\n",
        "def count_words(text):\n",
        "    \"\"\"Count how many times each unique word occurs in text.\"\"\"\n",
        "    counts = dict()  # dictionary of { <word>: <count> } pairs to return\n",
        "    punctuations = '''!()-[]{};:'\"\\,<>./?@#$%^&*_~'''\n",
        "    \n",
        "    # TODO: Convert to lowercase\n",
        "    text.lower()\n",
        "    \n",
        "    # TODO: Split text into tokens (words), leaving out punctuation\n",
        "    # (Hint: Use regex to split on non-alphanumeric characters)\n",
        "    splitstrings = re.split('[^a-zA-Z]+', text.lower())\n",
        "    # TODO: Aggregate word counts using a dictionary\n",
        "    for str in splitstrings:\n",
        "        if str not in punctuations:\n",
        "            counts[str]= counts.get(str,0)+1\n",
        "\n",
        "    return counts"
      ],
      "execution_count": 3,
      "outputs": []
    },
    {
      "cell_type": "markdown",
      "metadata": {
        "id": "5rhJwTJI5Hzn",
        "colab_type": "text"
      },
      "source": [
        "## **Test function Count_words on given .txt file !**\n",
        "\n",
        "---\n"
      ]
    },
    {
      "cell_type": "code",
      "metadata": {
        "id": "S5e9Bv4l5URl",
        "colab_type": "code",
        "colab": {
          "base_uri": "https://localhost:8080/",
          "height": 472
        },
        "outputId": "cad524d6-93eb-4f77-e5ec-d05283959354"
      },
      "source": [
        "def test_run():\n",
        "    with open(\"Counting_Words.txt\", \"r\",encoding=\"utf8\",errors='ignore') as f:\n",
        "        text = f.read()\n",
        "        counts = count_words(text)\n",
        "        sorted_counts = sorted(counts.items(), key=lambda pair: pair[1], reverse=True)\n",
        "        \n",
        "        print(\"10 most common words:\\nWord\\tCount\")\n",
        "        for word, count in sorted_counts[:10]:\n",
        "            print(\"{}\\t{}\".format(word, count))\n",
        "        \n",
        "        print(\"\\n10 least common words:\\nWord\\tCount\")\n",
        "        for word, count in sorted_counts[-10:]:\n",
        "            print(\"{}\\t{}\".format(word, count))\n",
        "\n",
        "\n",
        "if __name__ == \"__main__\":\n",
        "    test_run()\n"
      ],
      "execution_count": 4,
      "outputs": [
        {
          "output_type": "stream",
          "text": [
            "10 most common words:\n",
            "Word\tCount\n",
            "a\t9\n",
            "he\t6\n",
            "the\t6\n",
            "and\t5\n",
            "as\t4\n",
            "was\t4\n",
            "with\t3\n",
            "i\t2\n",
            "of\t2\n",
            "his\t2\n",
            "\n",
            "10 least common words:\n",
            "Word\tCount\n",
            "tables\t1\n",
            "merry\t1\n",
            "word\t1\n",
            "or\t1\n",
            "slap\t1\n",
            "on\t1\n",
            "for\t1\n",
            "more\t1\n",
            "favoured\t1\n",
            "guests\t1\n"
          ],
          "name": "stdout"
        }
      ]
    },
    {
      "cell_type": "code",
      "metadata": {
        "id": "4_6kAAAC5p0C",
        "colab_type": "code",
        "colab": {}
      },
      "source": [
        ""
      ],
      "execution_count": null,
      "outputs": []
    }
  ]
}